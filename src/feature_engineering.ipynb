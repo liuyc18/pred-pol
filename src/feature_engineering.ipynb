{
 "cells": [
  {
   "cell_type": "markdown",
   "metadata": {},
   "source": [
    "Group 5: LI LINGYU, LIU YICHAO, WU JINGYAN, YANG QINGSHAN, YE FANGDA"
   ]
  },
  {
   "cell_type": "markdown",
   "metadata": {},
   "source": [
    "# Read Data"
   ]
  },
  {
   "cell_type": "code",
   "execution_count": null,
   "metadata": {},
   "outputs": [],
   "source": [
    "import pandas as pd\n",
    "import config"
   ]
  },
  {
   "cell_type": "code",
   "execution_count": null,
   "metadata": {},
   "outputs": [],
   "source": [
    "# Read cleaned csv file\n",
    "chicago_clean = pd.read_csv(config.TRAIN_FILE_CLEAN)"
   ]
  },
  {
   "cell_type": "markdown",
   "metadata": {},
   "source": [
    "# Feature Construction"
   ]
  },
  {
   "cell_type": "code",
   "execution_count": null,
   "metadata": {},
   "outputs": [],
   "source": [
    "# Construct time features\n",
    "chicago_clean['Date'] = pd.to_datetime(chicago_clean['Date'], format='%m/%d/%Y %I:%M:%S %p')\n",
    "\n",
    "chicago_clean['Hour'] = chicago_clean['Date'].dt.hour\n",
    "chicago_clean['Day'] = chicago_clean['Date'].dt.day\n",
    "chicago_clean['Month'] = chicago_clean['Date'].dt.month\n",
    "chicago_clean['DayOfWeek'] = chicago_clean['Date'].dt.dayofweek\n",
    "chicago_clean['Year'] = chicago_clean['Date'].dt.year\n",
    "chicago_clean['IsWeekend'] = chicago_clean['DayOfWeek'].isin([5,6]).astype(int)\n",
    "chicago_clean['TimeOfDay'] = pd.cut(chicago_clean['Hour'], \n",
    "                                   bins=[0,6,12,18,24], \n",
    "                                   labels=['Night','Morning','Afternoon','Evening'])\n",
    "chicago_clean['Season'] = pd.cut(chicago_clean['Month'],\n",
    "                                bins=[0,3,6,9,12],\n",
    "                                labels=['Winter','Spring','Summer','Fall'])\n",
    "\n",
    "# Drop initial date column\n",
    "chicago_clean = chicago_clean.drop('Date', axis=1)"
   ]
  }
 ],
 "metadata": {
  "kernelspec": {
   "display_name": "Python 3",
   "language": "python",
   "name": "python3"
  },
  "language_info": {
   "name": "python",
   "version": "3.9.6"
  }
 },
 "nbformat": 4,
 "nbformat_minor": 2
}
