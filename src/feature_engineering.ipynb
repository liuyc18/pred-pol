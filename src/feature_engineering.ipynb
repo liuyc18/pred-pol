{
 "cells": [
  {
   "cell_type": "markdown",
   "metadata": {},
   "source": [
    "Group 5: LI LINGYU, LIU YICHAO, WU JINGYAN, YANG QINGSHAN, YE FANGDA"
   ]
  },
  {
   "cell_type": "code",
   "execution_count": 14,
   "metadata": {},
   "outputs": [
    {
     "name": "stdout",
     "output_type": "stream",
     "text": [
      "['../data/chicago_clean_final_arrest.csv', '../data/chicago_clean_final_not_arrest.csv']\n"
     ]
    }
   ],
   "source": [
    "# Construct time features\n",
    "\n",
    "chicago_clean['Date'] = pd.to_datetime(chicago_clean['Date'], format='%m/%d/%Y %I:%M:%S %p')\n",
    "chicago_clean['Hour'] = chicago_clean['Date'].dt.hour\n",
    "chicago_clean['Day'] = chicago_clean['Date'].dt.day\n",
    "chicago_clean['Month'] = chicago_clean['Date'].dt.month\n",
    "chicago_clean['DayOfWeek'] = chicago_clean['Date'].dt.dayofweek\n",
    "chicago_clean['Year'] = chicago_clean['Date'].dt.year\n",
    "chicago_clean['IsWeekend'] = chicago_clean['DayOfWeek'].isin([5,6]).astype(int)\n",
    "chicago_clean['TimeOfDay'] = pd.cut(chicago_clean['Hour'], \n",
    "                                   bins=[0,6,12,18,24], \n",
    "                                   labels=['Night','Morning','Afternoon','Evening'])\n",
    "chicago_clean['Season'] = pd.cut(chicago_clean['Month'],\n",
    "                                bins=[-1,2,5,8,11],\n",
    "                                labels=['Winter','Spring','Summer','Fall'])\n",
    "\n",
    "# Drop initial date column\n",
    "chicago_clean = chicago_clean.drop('Date', axis=1)\n"
   ]
  },
  {
   "cell_type": "code",
   "execution_count": null,
   "metadata": {},
   "outputs": [],
   "source": [
    "#construct spatial features\n",
    "chicago_clean[['grid_x', 'grid_y']] = chicago_clean['grid'].str.split('_', expand=True).astype(int)\n",
    "chicago_clean['is_border'] = (\n",
    "    (chicago_clean['grid_x'].isin([0, 10])) | \n",
    "    (chicago_clean['grid_y'].isin([0, 10]))\n",
    ").astype(int)\n"
   ]
  },
  {
   "cell_type": "code",
   "execution_count": null,
   "metadata": {},
   "outputs": [],
   "source": [
    "#construct environmental features\n",
    "\n",
    "top_locations = chicago['Location Description'].value_counts().head(5).index.tolist()\n",
    "for loc in top_locations:\n",
    "    chicago_clean[f'Location_{loc}'] = (chicago['Location Description'] == loc).astype(int)\n",
    "\n",
    "chicago_clean['Community_Area'] = chicago['Community Area']\n",
    "\n",
    "chicago_clean['District'] = chicago['District']\n",
    "chicago_clean['Ward'] = chicago['Ward']\n",
    "\n",
    "fbi_risk_mapping = {\n",
    "    '04': 'High',   \n",
    "    '08': 'Medium', \n",
    "    '06': 'Low'     \n",
    "}\n",
    "chicago_clean['FBI_Risk'] = chicago['FBI Code'].map(fbi_risk_mapping)\n",
    "fbi_risk_dummies = pd.get_dummies(chicago_clean['FBI_Risk'], prefix='FBI_Risk')\n",
    "chicago_clean = pd.concat([chicago_clean, fbi_risk_dummies], axis=1)\n",
    "chicago_clean = chicago_clean.drop('FBI_Risk', axis=1)\n"
   ]
  },
  {
   "cell_type": "code",
   "execution_count": null,
   "metadata": {},
   "outputs": [],
   "source": [
    "chicago_clean = pd.get_dummies(chicago_clean, columns=[\"Season\", \"TimeOfDay\", \"DayOfWeek\"])\n",
    "chicago_clean"
   ]
  }
 ],
 "metadata": {
  "kernelspec": {
   "display_name": "Python 3 (ipykernel)",
   "language": "python",
   "name": "python3"
  },
  "language_info": {
   "codemirror_mode": {
    "name": "ipython",
    "version": 3
   },
   "file_extension": ".py",
   "mimetype": "text/x-python",
   "name": "python",
   "nbconvert_exporter": "python",
   "pygments_lexer": "ipython3",
   "version": "3.11.5"
  }
 },
 "nbformat": 4,
 "nbformat_minor": 4
}
